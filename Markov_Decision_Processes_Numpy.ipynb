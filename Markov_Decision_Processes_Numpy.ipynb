{
  "nbformat": 4,
  "nbformat_minor": 0,
  "metadata": {
    "colab": {
      "provenance": [],
      "authorship_tag": "ABX9TyNvGRqIVkIL8Yr0ogB4VTwc",
      "include_colab_link": true
    },
    "kernelspec": {
      "name": "python3",
      "display_name": "Python 3"
    },
    "language_info": {
      "name": "python"
    }
  },
  "cells": [
    {
      "cell_type": "markdown",
      "metadata": {
        "id": "view-in-github",
        "colab_type": "text"
      },
      "source": [
        "<a href=\"https://colab.research.google.com/github/lfmartins/markov-decision-processes/blob/main/Markov_Decision_Processes_Numpy.ipynb\" target=\"_parent\"><img src=\"https://colab.research.google.com/assets/colab-badge.svg\" alt=\"Open In Colab\"/></a>"
      ]
    },
    {
      "cell_type": "markdown",
      "source": [
        "# Preliminaries\n",
        "\n",
        "## Optional installation of Python 3.11\n",
        "Run the following cell to install and use Python 3.11 in this notebook. As of the time of this writing, the default version of Python in colab is 3.8.\n",
        "\n",
        "Output is supressed, and installation may take up to a couple minutes to finish. \n",
        "\n",
        "Remove `%%capture` to see the shell messages."
      ],
      "metadata": {
        "id": "Pjk_AI-9ZQze"
      }
    },
    {
      "cell_type": "code",
      "source": [
        "%%capture\n",
        "!sudo apt-get update -y\n",
        "!sudo apt-get install python3.11\n",
        "!sudo update-alternatives --install /usr/bin/python3 python3 /usr/bin/python3.11 2"
      ],
      "metadata": {
        "id": "2ZL3ivUevlBu"
      },
      "execution_count": 11,
      "outputs": []
    },
    {
      "cell_type": "markdown",
      "source": [
        "Check if installation is successful:"
      ],
      "metadata": {
        "id": "V9644YF4ZzXL"
      }
    },
    {
      "cell_type": "code",
      "source": [
        "!python --version"
      ],
      "metadata": {
        "id": "x1eeSZ7bZvcz",
        "outputId": "2530dee7-8d71-43b5-f1c5-3b6e5a8f436f",
        "colab": {
          "base_uri": "https://localhost:8080/"
        }
      },
      "execution_count": 12,
      "outputs": [
        {
          "output_type": "stream",
          "name": "stdout",
          "text": [
            "Python 3.11.2\n"
          ]
        }
      ]
    },
    {
      "cell_type": "markdown",
      "source": [
        "## Imports\n",
        "\n",
        "Run the following cell to import required modules and functions."
      ],
      "metadata": {
        "id": "rzeECdudZ-Lg"
      }
    },
    {
      "cell_type": "code",
      "execution_count": 13,
      "metadata": {
        "id": "ZSwezsRuKRdP"
      },
      "outputs": [],
      "source": [
        "import numpy as np\n",
        "import numpy.linalg"
      ]
    },
    {
      "cell_type": "markdown",
      "source": [
        "# Introduction\n",
        "\n",
        "We want to build a framework for MDPs. The basic ingredients are:\n",
        "\n",
        "- A set of *states* $\\mathscr{S}$. We assume that $\\mathscr{S}$ is finite and let $N=|\\mathscr{S}|$\n",
        "- A set of *actions* $\\mathscr{A}$. We assume that $\\mathscr{A}$ is finite.\n",
        "- For each $s\\in\\mathscr{S}$, a set of *admissible actions for state $s$*, $\\mathscr{A}_s\\subset\\mathscr{A}$.\n",
        "- For each $s,s'\\in\\mathscr{S}$ and $a\\in\\mathscr{A}_s$, a number $p(s'\\,|\\,s,a)\\in[0,1]$.\n",
        "- For each $s\\in\\mathscr{S}$ and $a\\in\\mathscr{A}$, a number $r(s,a)$. We let the set of possible reward be $\\mathscr{R}$. We also assume this set to be finite.\n",
        "\n",
        "We interpret $p(s'\\,|\\,s,a)$ as the probability that, if the agent is in state $s$ and action $a$ is chosen, the agent will next transition to state $s'$. We require that, for each $s$, $a$ we have:\n",
        "$$\n",
        "\\sum_{s'\\in\\mathscr{S}}p(s'\\,|\\,s,a)=1\n",
        "$$\n",
        "\n",
        "The function $r(s,a)$ represents a *reward* received by the agent for visiting state $s$ and choosing action $a$. We can easily extend the definition to cover for randomized rewards.\n",
        "\n",
        "We will only consider infinite-horizon problems, so we only have to deal with stationary policies. A *randomized policy* is a specification, for every $s\\in\\mathscr{S}$ and $a\\in\\mathscr{A}$ of a number $\\pi(a\\,|\\,s)$, interpreted as the probability that action $a$ is chosen when in state $s$. We require:\n",
        "$$\n",
        "0\\le\\pi(a\\,|\\,s)\\le 1,\\quad \\sum_{a\\in\\mathscr{A_s}}\\pi(a\\,|\\,s)=1\n",
        "$$\n",
        "If, for all $s\\in\\mathscr{S}$ there is an $a=a(s)\\in\\mathscr{A}_s$ such that $\\pi(a\\,|\\,s)=1$, we say that $\\pi$ is *deterministic*.\n",
        "\n",
        "The *transition probability matrix* associated to a policy $\\pi$ is a $N\\times N$ matrix $Q$ defined by:\n",
        "$$\n",
        "Q_{ss'}=\\sum_{a\\in\\mathscr{A}_s}\\pi(a\\,|\\,s)p(s'\\,|\\,s,a)\n",
        "$$\n",
        "It is easy to see that this is a stochastic matrix. Thus, if $\\pi_0$ is a probability distribution on $\\mathscr{S}$, there is a Markov chain $\\{(S_t,A_t,R_t)\\}_{t\\ge 0}\\subset \\mathscr{S}\\times\\mathscr{A}\\times\\mathscr{R}$ such that:\n",
        "\n",
        "- $\\mathbb{P}_{\\pi,\\pi_0}\\left[S_t=s'\\,|\\,S_{t-1}=s, A_{t-1}=a\\right]=p(s'\\,|\\,s,a)$\n",
        "- $\\mathbb{P}_{\\pi,\\pi_0}\\left[A_t=a\\,|\\,S_t=s\\right]=\\pi(a\\,|\\,s)$ if $a\\in\\mathscr{A}_t$.\n",
        "- $R_t=r(S_t,A_t)$\n",
        "\n",
        "In general, the initial distribution will not be relevant in the formulas below, so we will write simply $P_\\pi$ to the probability measure corresponding to the Markov chain. We denote the corresponding expected value by $E_\\pi$.\n",
        "\n",
        "Let $0< \\gamma < 1$ we define the *value function* of policy $\\pi$ as:\n",
        "$$\n",
        "V_\\pi(s)=E_\\pi\\left[\\sum_{t=0}^\\infty\\gamma^tR_t\\,|\\,S_0=s\\right]\n",
        "$$\n",
        "\n",
        "This value function is a solution to *Bellman's Equation*:\n",
        "$$\n",
        "V_\\pi(s)=\\sum_{a\\in\\mathscr{A}_s}\\pi(a\\,|\\,s)\\left[r(a,s)+\\sum_{s'\\in\\mathscr{S}}\\gamma p(s'\\,|\\,s,a)V_\\pi(s)\\right]\n",
        "$$\n",
        "The sum is finite since $\\gamma$ is in the interval $(0,1)$.\n",
        "\n",
        "The *optimal value function* is defined as:\n",
        "$$\n",
        "V(s)=\\max\\left\\{V_\\pi(s)\\,|\\,\\text{$\\pi$ is a randomized policy}\\right\\}\n",
        "$$\n",
        "\n",
        "Bellman's Equation for the optimal value function is:\n",
        "$$\n",
        "V^*(s)=\\max_{a\\in\\mathscr{A}_s}\\left\\{r(a,s)+\\sum_{s'\\in\\mathscr{S}}\\gamma p(s'\\,|\\,s,a)V^*(s)\\right\\}\n",
        "$$\n",
        "The optimal policy is always deterministic, and is found by:\n",
        "$$\n",
        "\\pi^*(s)=\\underset{a\\in\\mathscr{A}_s}{\\arg\\max}\\left\\{r(a,s)+\\sum_{s'\\in\\mathscr{S}}\\gamma^tp(s'\\,|\\,s,a)V^*(s)\\right\\}\n",
        "$$\n",
        "Obviously, we have:\n",
        "$$\n",
        "V^*(s)=V_{\\pi^*}(s)\n",
        "$$\n",
        "for all $s\\in\\mathscr{S}$."
      ],
      "metadata": {
        "id": "ESbj5F36KazZ"
      }
    },
    {
      "cell_type": "markdown",
      "source": [
        "# Data Structures\n",
        "\n",
        "We need to store three things:\n",
        "\n",
        "- The transition probabilities $p(s',s,a)$\n",
        "- The rewards $r(s,a)$\n",
        "- The policy\n",
        "\n",
        "A Markov Decision Process is represented by an object in the class `MDP`. This class records all states and actions. States and actions have unique IDs that are mapped to an integer (according to the order by which they are created). The state and action IDs can be any hashable object.\n",
        "\n",
        "State IDs are stored in a list `__states`, and action IDs are stored in a list `__actions`. States and actions are added to these lists in the order they are created.\n",
        "\n",
        "We call the *index* os a state `s` the position where `s` is stored in the list `__states`. Similarly the index of an action `a` is its position in the list `__actions`\n",
        "\n",
        "For storing the transition probabilities, we use a list `__tp`. Each entry in `__tp` is a dictionary. For each action, this dictionary points to an array containing the transition probabilities.\n",
        "\n",
        "Notice that there is some waste in this description, and in the future we may move to a more sparse representation.\n"
      ],
      "metadata": {
        "id": "XsR5ry1ditiW"
      }
    },
    {
      "cell_type": "code",
      "source": [
        "class MDP(object):\n",
        "  def __init__(self, states, actions, data):\n",
        "    self.__states = states\n",
        "    self.__nstates = len(self.__states)\n",
        "    self.__state_index = {s, i for i, s in enumerate(self.__states)}\n",
        "    if len(self.state_index < len(self.__states)):\n",
        "      raise ValueError('states must be unique')\n",
        "    self.__actions = actions\n",
        "    self.__nactions = len(self.__actions)\n",
        "    self.__action_idx = {a, i for i, a in enumerate(self.__actions)}\n",
        "    if len(self.action_index < len(self.__states)):\n",
        "      raise ValueError('actions must be unique')\n",
        "    \n",
        "\n",
        "  def add_action(self, state, action, tr_probs, reward):\n",
        "    if state not in self.__p:\n",
        "      raise ValueError('state {state} does not exist')\n",
        "    if action in self.__p[state]:\n",
        "      raise ValueError('action {action} already exists for state {state}')\n",
        "    self.__p[state][action] = tr_probs\n",
        "    self.__r[state][action] = reward\n",
        "\n",
        "  def value_function(self, policy, gamma):\n",
        "    b = np.zeros(self.__nstates, dtype=np.float64)\n",
        "    M = np.zeros((self.__nstates, self.__nstates), dtype=np.float64)\n",
        "    for i, s in enumerate(self.__states):\n",
        "      b[i] = sum(policy[i][a] * self.__r[s][a] for a in self.__r[s])\n",
        "      for j in range(self.__nstates):\n",
        "        M[i, j] = gamma * sum(policy[i][a] * self.__p[s][a][j] for a in self.__p[s])\n",
        "    V = np.linalg.solve(np.eye(self.__nstates) - M, b)\n",
        "    return dict(zip(self.__states, V))\n",
        "\n",
        "  def value_iteration(self, gamma):\n",
        "\n",
        "    \n",
        "  def pretty_print(self):\n",
        "    for s in self.__states:\n",
        "      print(f'State {s}:')\n",
        "      for a in self.__p[s]:\n",
        "        print(f'  Action {a}. Reward: {self.__r[s][a]};',\n",
        "              f'Transition probabilities: {self.__p[s][a]}')\n"
      ],
      "metadata": {
        "id": "6WQtb9gfKYD0"
      },
      "execution_count": 112,
      "outputs": []
    },
    {
      "cell_type": "code",
      "source": [
        "tiny_robot = MDP([1, 2, 3, 4])\n",
        "tiny_robot.add_action(1, 'A', [1/3, 2/3,   0,   0], 1)\n",
        "tiny_robot.add_action(1, 'B', [  0, 1/2,   0, 1/2], 4)\n",
        "tiny_robot.add_action(2, 'A', [  0, 1/3, 2/3,   0], 2)\n",
        "tiny_robot.add_action(2, 'B', [1/2,   0, 1/2,   0], 3)\n",
        "tiny_robot.add_action(3, 'A', [  0,   0, 1/3, 2/3], 3)\n",
        "tiny_robot.add_action(3, 'B', [  0, 1/2,   0, 1/2], 2)\n",
        "tiny_robot.add_action(4, 'A', [2/3,   0,   0, 1/3], 4)\n",
        "tiny_robot.add_action(4, 'B', [1/2,   0, 1/2,   0], 1)\n"
      ],
      "metadata": {
        "id": "6wtnbprnKXWO",
        "colab": {
          "base_uri": "https://localhost:8080/"
        },
        "outputId": "8fc2f900-3816-4584-c2ed-b26804fca3d1"
      },
      "execution_count": 113,
      "outputs": [
        {
          "output_type": "stream",
          "name": "stdout",
          "text": [
            "4\n"
          ]
        }
      ]
    },
    {
      "cell_type": "code",
      "source": [
        "tiny_robot.pretty_print()"
      ],
      "metadata": {
        "colab": {
          "base_uri": "https://localhost:8080/"
        },
        "id": "ecH1vdbavCbN",
        "outputId": "e8f69118-b731-40d3-9434-45eb289c7524"
      },
      "execution_count": 114,
      "outputs": [
        {
          "output_type": "stream",
          "name": "stdout",
          "text": [
            "State 1:\n",
            "  Action A. Reward: 1; Transition probabilities: [0.3333333333333333, 0.6666666666666666, 0, 0]\n",
            "  Action B. Reward: 4; Transition probabilities: [0, 0.5, 0, 0.5]\n",
            "State 2:\n",
            "  Action A. Reward: 2; Transition probabilities: [0, 0.3333333333333333, 0.6666666666666666, 0]\n",
            "  Action B. Reward: 3; Transition probabilities: [0.5, 0, 0.5, 0]\n",
            "State 3:\n",
            "  Action A. Reward: 3; Transition probabilities: [0, 0, 0.3333333333333333, 0.6666666666666666]\n",
            "  Action B. Reward: 2; Transition probabilities: [0, 0.5, 0, 0.5]\n",
            "State 4:\n",
            "  Action A. Reward: 4; Transition probabilities: [0.6666666666666666, 0, 0, 0.3333333333333333]\n",
            "  Action B. Reward: 1; Transition probabilities: [0.5, 0, 0.5, 0]\n"
          ]
        }
      ]
    },
    {
      "cell_type": "markdown",
      "source": [
        "For now, we model a policy as a list of dictionaries. "
      ],
      "metadata": {
        "id": "bVj0GeTVeh4D"
      }
    },
    {
      "cell_type": "code",
      "source": [
        "policy = [\n",
        "    {'A': 1/2, 'B': 1/2},\n",
        "    {'A': 1/4, 'B': 3/4},\n",
        "    {'A': 2/3, 'B': 1/3},\n",
        "    {'A':   0, 'B':   1}\n",
        "]\n",
        "policy   "
      ],
      "metadata": {
        "id": "paWOQcvrvajE",
        "outputId": "b8a2c4d3-654c-4d09-d111-94b6f93638c9",
        "colab": {
          "base_uri": "https://localhost:8080/"
        }
      },
      "execution_count": 115,
      "outputs": [
        {
          "output_type": "execute_result",
          "data": {
            "text/plain": [
              "[{'A': 0.5, 'B': 0.5},\n",
              " {'A': 0.25, 'B': 0.75},\n",
              " {'A': 0.6666666666666666, 'B': 0.3333333333333333},\n",
              " {'A': 0, 'B': 1}]"
            ]
          },
          "metadata": {},
          "execution_count": 115
        }
      ]
    },
    {
      "cell_type": "code",
      "source": [
        "tiny_robot.value_function(policy, 0.8)"
      ],
      "metadata": {
        "id": "KjMuWc9h-Tvq",
        "outputId": "f590865a-440b-4dde-a6de-b3baf4a462e8",
        "colab": {
          "base_uri": "https://localhost:8080/"
        }
      },
      "execution_count": 116,
      "outputs": [
        {
          "output_type": "execute_result",
          "data": {
            "text/plain": [
              "{1: 11.612474812236673,\n",
              " 2: 11.87213775416743,\n",
              " 3: 11.185198754350612,\n",
              " 4: 10.119069426634915}"
            ]
          },
          "metadata": {},
          "execution_count": 116
        }
      ]
    },
    {
      "cell_type": "code",
      "source": [],
      "metadata": {
        "id": "4La9dgIyip5O"
      },
      "execution_count": 67,
      "outputs": []
    }
  ]
}