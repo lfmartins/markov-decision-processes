{
  "nbformat": 4,
  "nbformat_minor": 0,
  "metadata": {
    "colab": {
      "provenance": [],
      "authorship_tag": "ABX9TyOha10WmkpLc5UzhY40hSCE",
      "include_colab_link": true
    },
    "kernelspec": {
      "name": "python3",
      "display_name": "Python 3"
    },
    "language_info": {
      "name": "python"
    }
  },
  "cells": [
    {
      "cell_type": "markdown",
      "metadata": {
        "id": "view-in-github",
        "colab_type": "text"
      },
      "source": [
        "<a href=\"https://colab.research.google.com/github/lfmartins/markov-decision-processes/blob/main/tiny_robot.ipynb\" target=\"_parent\"><img src=\"https://colab.research.google.com/assets/colab-badge.svg\" alt=\"Open In Colab\"/></a>"
      ]
    },
    {
      "cell_type": "code",
      "execution_count": 1,
      "metadata": {
        "id": "T-ZlCrobwChq"
      },
      "outputs": [],
      "source": [
        "from sympy import *"
      ]
    },
    {
      "cell_type": "code",
      "source": [
        "pA = Matrix([[Rational(1, 3), Rational(2,3), Rational(0, 1), Rational(0, 1)],\n",
        "             [Rational(0, 1), Rational(1,3), Rational(2, 3), Rational(0, 1)],\n",
        "             [Rational(0, 1), Rational(0,1), Rational(1, 3), Rational(2, 3)],\n",
        "             [Rational(2, 3), Rational(0,1), Rational(0, 1), Rational(1, 3)]] )\n",
        "pA"
      ],
      "metadata": {
        "colab": {
          "base_uri": "https://localhost:8080/",
          "height": 100
        },
        "id": "yVbdILVowGSn",
        "outputId": "316b7a1d-0a0f-4f40-cfc8-a912c75e94fd"
      },
      "execution_count": 6,
      "outputs": [
        {
          "output_type": "execute_result",
          "data": {
            "text/plain": [
              "Matrix([\n",
              "[1/3, 2/3,   0,   0],\n",
              "[  0, 1/3, 2/3,   0],\n",
              "[  0,   0, 1/3, 2/3],\n",
              "[2/3,   0,   0, 1/3]])"
            ],
            "text/latex": "$\\displaystyle \\left[\\begin{matrix}\\frac{1}{3} & \\frac{2}{3} & 0 & 0\\\\0 & \\frac{1}{3} & \\frac{2}{3} & 0\\\\0 & 0 & \\frac{1}{3} & \\frac{2}{3}\\\\\\frac{2}{3} & 0 & 0 & \\frac{1}{3}\\end{matrix}\\right]$"
          },
          "metadata": {},
          "execution_count": 6
        }
      ]
    },
    {
      "cell_type": "code",
      "source": [
        "rA = Matrix([Integer(1), Integer(2), Integer(3), Integer(4)])\n",
        "rA"
      ],
      "metadata": {
        "colab": {
          "base_uri": "https://localhost:8080/",
          "height": 98
        },
        "id": "WhGKQ5BiwQLD",
        "outputId": "e37c9551-517c-4b39-f693-5ece25e08b39"
      },
      "execution_count": 8,
      "outputs": [
        {
          "output_type": "execute_result",
          "data": {
            "text/plain": [
              "Matrix([\n",
              "[1],\n",
              "[2],\n",
              "[3],\n",
              "[4]])"
            ],
            "text/latex": "$\\displaystyle \\left[\\begin{matrix}1\\\\2\\\\3\\\\4\\end{matrix}\\right]$"
          },
          "metadata": {},
          "execution_count": 8
        }
      ]
    },
    {
      "cell_type": "code",
      "source": [],
      "metadata": {
        "id": "QKsY-gskxPEk"
      },
      "execution_count": null,
      "outputs": []
    }
  ]
}