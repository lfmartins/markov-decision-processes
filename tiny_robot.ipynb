{
  "nbformat": 4,
  "nbformat_minor": 0,
  "metadata": {
    "colab": {
      "provenance": [],
      "authorship_tag": "ABX9TyPRGryoqA70v9yAC7773mcn",
      "include_colab_link": true
    },
    "kernelspec": {
      "name": "python3",
      "display_name": "Python 3"
    },
    "language_info": {
      "name": "python"
    }
  },
  "cells": [
    {
      "cell_type": "markdown",
      "metadata": {
        "id": "view-in-github",
        "colab_type": "text"
      },
      "source": [
        "<a href=\"https://colab.research.google.com/github/lfmartins/markov-decision-processes/blob/main/tiny_robot.ipynb\" target=\"_parent\"><img src=\"https://colab.research.google.com/assets/colab-badge.svg\" alt=\"Open In Colab\"/></a>"
      ]
    },
    {
      "cell_type": "code",
      "execution_count": null,
      "metadata": {
        "id": "T-ZlCrobwChq"
      },
      "outputs": [],
      "source": [
        "from sympy import *"
      ]
    },
    {
      "cell_type": "markdown",
      "source": [
        "In this notebook, we consider a Markov Decision Process"
      ],
      "metadata": {
        "id": "XcDalug7PLX5"
      }
    },
    {
      "cell_type": "code",
      "source": [
        "pA = Matrix([[Rational(1, 3), Rational(2,3), Rational(0, 1), Rational(0, 1)],\n",
        "             [Rational(0, 1), Rational(1,3), Rational(2, 3), Rational(0, 1)],\n",
        "             [Rational(0, 1), Rational(0,1), Rational(1, 3), Rational(2, 3)],\n",
        "             [Rational(2, 3), Rational(0,1), Rational(0, 1), Rational(1, 3)]] )\n",
        "pA"
      ],
      "metadata": {
        "colab": {
          "base_uri": "https://localhost:8080/",
          "height": 100
        },
        "id": "yVbdILVowGSn",
        "outputId": "e9258b09-f51a-4a41-ddcb-5e386f3bd7eb"
      },
      "execution_count": null,
      "outputs": [
        {
          "output_type": "execute_result",
          "data": {
            "text/plain": [
              "Matrix([\n",
              "[1/3, 2/3,   0,   0],\n",
              "[  0, 1/3, 2/3,   0],\n",
              "[  0,   0, 1/3, 2/3],\n",
              "[2/3,   0,   0, 1/3]])"
            ],
            "text/latex": "$\\displaystyle \\left[\\begin{matrix}\\frac{1}{3} & \\frac{2}{3} & 0 & 0\\\\0 & \\frac{1}{3} & \\frac{2}{3} & 0\\\\0 & 0 & \\frac{1}{3} & \\frac{2}{3}\\\\\\frac{2}{3} & 0 & 0 & \\frac{1}{3}\\end{matrix}\\right]$"
          },
          "metadata": {},
          "execution_count": 3
        }
      ]
    },
    {
      "cell_type": "code",
      "source": [
        "rA = Matrix([Integer(1), Integer(2), Integer(3), Integer(4)])\n",
        "rA"
      ],
      "metadata": {
        "colab": {
          "base_uri": "https://localhost:8080/",
          "height": 98
        },
        "id": "WhGKQ5BiwQLD",
        "outputId": "814bb2fd-6456-44ac-888b-53841bcc4b57"
      },
      "execution_count": null,
      "outputs": [
        {
          "output_type": "execute_result",
          "data": {
            "text/plain": [
              "Matrix([\n",
              "[1],\n",
              "[2],\n",
              "[3],\n",
              "[4]])"
            ],
            "text/latex": "$\\displaystyle \\left[\\begin{matrix}1\\\\2\\\\3\\\\4\\end{matrix}\\right]$"
          },
          "metadata": {},
          "execution_count": 4
        }
      ]
    },
    {
      "cell_type": "code",
      "source": [
        "pB = Matrix([[Rational(0, 1), Rational(1,2), Rational(0, 1), Rational(1, 2)],\n",
        "             [Rational(1, 2), Rational(0,1), Rational(1, 2), Rational(0, 1)],\n",
        "             [Rational(0, 1), Rational(1,2), Rational(0, 1), Rational(1, 2)],\n",
        "             [Rational(1, 2), Rational(0,1), Rational(1, 2), Rational(0, 1)]] )\n",
        "pB"
      ],
      "metadata": {
        "colab": {
          "base_uri": "https://localhost:8080/",
          "height": 100
        },
        "id": "QKsY-gskxPEk",
        "outputId": "8b246ec4-8ab8-4e1f-ee4b-ae231c176125"
      },
      "execution_count": null,
      "outputs": [
        {
          "output_type": "execute_result",
          "data": {
            "text/plain": [
              "Matrix([\n",
              "[  0, 1/2,   0, 1/2],\n",
              "[1/2,   0, 1/2,   0],\n",
              "[  0, 1/2,   0, 1/2],\n",
              "[1/2,   0, 1/2,   0]])"
            ],
            "text/latex": "$\\displaystyle \\left[\\begin{matrix}0 & \\frac{1}{2} & 0 & \\frac{1}{2}\\\\\\frac{1}{2} & 0 & \\frac{1}{2} & 0\\\\0 & \\frac{1}{2} & 0 & \\frac{1}{2}\\\\\\frac{1}{2} & 0 & \\frac{1}{2} & 0\\end{matrix}\\right]$"
          },
          "metadata": {},
          "execution_count": 5
        }
      ]
    },
    {
      "cell_type": "code",
      "source": [
        "rB = Matrix([Integer(4), Integer(3), Integer(2), Integer(1)])\n",
        "rB"
      ],
      "metadata": {
        "colab": {
          "base_uri": "https://localhost:8080/",
          "height": 98
        },
        "id": "wJFww2WDxtMB",
        "outputId": "48d5cb2f-dbdd-4a2c-e708-23750039407f"
      },
      "execution_count": null,
      "outputs": [
        {
          "output_type": "execute_result",
          "data": {
            "text/plain": [
              "Matrix([\n",
              "[4],\n",
              "[3],\n",
              "[2],\n",
              "[1]])"
            ],
            "text/latex": "$\\displaystyle \\left[\\begin{matrix}4\\\\3\\\\2\\\\1\\end{matrix}\\right]$"
          },
          "metadata": {},
          "execution_count": 6
        }
      ]
    },
    {
      "cell_type": "code",
      "source": [
        "piA = Matrix([Rational(1, 2), Rational(1, 4), Rational(2, 3), Rational(0, 1)])\n",
        "piA"
      ],
      "metadata": {
        "id": "8fd2Q3PCx2xf",
        "outputId": "9020c1cd-dbce-4e0a-d71a-663905e2a3a2",
        "colab": {
          "base_uri": "https://localhost:8080/",
          "height": 100
        }
      },
      "execution_count": null,
      "outputs": [
        {
          "output_type": "execute_result",
          "data": {
            "text/plain": [
              "Matrix([\n",
              "[1/2],\n",
              "[1/4],\n",
              "[2/3],\n",
              "[  0]])"
            ],
            "text/latex": "$\\displaystyle \\left[\\begin{matrix}\\frac{1}{2}\\\\\\frac{1}{4}\\\\\\frac{2}{3}\\\\0\\end{matrix}\\right]$"
          },
          "metadata": {},
          "execution_count": 7
        }
      ]
    },
    {
      "cell_type": "code",
      "source": [],
      "metadata": {
        "id": "PraD5lwqUpci"
      },
      "execution_count": null,
      "outputs": []
    },
    {
      "cell_type": "code",
      "source": [
        "piB = Matrix([Rational(1, 2), Rational(3, 4), Rational(1, 3), Rational(1, 1)])"
      ],
      "metadata": {
        "id": "rdWKb2SZpB2G"
      },
      "execution_count": null,
      "outputs": []
    },
    {
      "cell_type": "code",
      "source": [
        "P = zeros(4, 4)\n",
        "for i in range(4):\n",
        "  for j in range(4):\n",
        "    P[i, j] = piA[i] * pA[i, j] + piB[i] * pB[i, j]\n",
        "P"
      ],
      "metadata": {
        "id": "FhZd1KlIpuVT",
        "outputId": "7ffe999e-7114-45b0-d50f-4b23f831fcc1",
        "colab": {
          "base_uri": "https://localhost:8080/",
          "height": 100
        }
      },
      "execution_count": null,
      "outputs": [
        {
          "output_type": "execute_result",
          "data": {
            "text/plain": [
              "Matrix([\n",
              "[1/6, 7/12,     0,   1/4],\n",
              "[3/8, 1/12, 13/24,     0],\n",
              "[  0,  1/6,   2/9, 11/18],\n",
              "[1/2,    0,   1/2,     0]])"
            ],
            "text/latex": "$\\displaystyle \\left[\\begin{matrix}\\frac{1}{6} & \\frac{7}{12} & 0 & \\frac{1}{4}\\\\\\frac{3}{8} & \\frac{1}{12} & \\frac{13}{24} & 0\\\\0 & \\frac{1}{6} & \\frac{2}{9} & \\frac{11}{18}\\\\\\frac{1}{2} & 0 & \\frac{1}{2} & 0\\end{matrix}\\right]$"
          },
          "metadata": {},
          "execution_count": 11
        }
      ]
    },
    {
      "cell_type": "code",
      "source": [
        "b = zeros(4,1)\n",
        "M = zeros(4,4)"
      ],
      "metadata": {
        "id": "mQnNG97Rqmpd"
      },
      "execution_count": null,
      "outputs": []
    },
    {
      "cell_type": "code",
      "source": [
        "gamma = Rational(4, 5)\n",
        "gamma"
      ],
      "metadata": {
        "id": "_2yEsRG6-WrB",
        "outputId": "9e111a32-1d97-45db-c05c-ed0c7e821699",
        "colab": {
          "base_uri": "https://localhost:8080/",
          "height": 52
        }
      },
      "execution_count": null,
      "outputs": [
        {
          "output_type": "execute_result",
          "data": {
            "text/plain": [
              "4/5"
            ],
            "text/latex": "$\\displaystyle \\frac{4}{5}$"
          },
          "metadata": {},
          "execution_count": 16
        }
      ]
    },
    {
      "cell_type": "code",
      "source": [
        "for j in range(4):\n",
        "  b[j] = piA[j] * rA[j] + piB[j] * rB[j]\n",
        "b"
      ],
      "metadata": {
        "id": "h4DjVMpM-e2S",
        "outputId": "583f1835-3461-46d1-9834-8f4a45e4af48",
        "colab": {
          "base_uri": "https://localhost:8080/",
          "height": 100
        }
      },
      "execution_count": null,
      "outputs": [
        {
          "output_type": "execute_result",
          "data": {
            "text/plain": [
              "Matrix([\n",
              "[ 5/2],\n",
              "[11/4],\n",
              "[ 8/3],\n",
              "[   1]])"
            ],
            "text/latex": "$\\displaystyle \\left[\\begin{matrix}\\frac{5}{2}\\\\\\frac{11}{4}\\\\\\frac{8}{3}\\\\1\\end{matrix}\\right]$"
          },
          "metadata": {},
          "execution_count": 18
        }
      ]
    },
    {
      "cell_type": "code",
      "source": [
        "for i in range(4):\n",
        "  for j in range(4):\n",
        "    M[i, j] = "
      ],
      "metadata": {
        "id": "q5IEpSiW-zGa"
      },
      "execution_count": null,
      "outputs": []
    }
  ]
}